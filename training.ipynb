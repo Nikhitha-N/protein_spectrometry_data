{
 "cells": [
  {
   "cell_type": "code",
   "execution_count": 2,
   "id": "2d0094b6",
   "metadata": {},
   "outputs": [],
   "source": [
    "import numpy as np\n",
    "import pandas as pd"
   ]
  },
  {
   "cell_type": "code",
   "execution_count": 3,
   "id": "ae4f21bd",
   "metadata": {},
   "outputs": [
    {
     "data": {
      "text/html": [
       "<div>\n",
       "<style scoped>\n",
       "    .dataframe tbody tr th:only-of-type {\n",
       "        vertical-align: middle;\n",
       "    }\n",
       "\n",
       "    .dataframe tbody tr th {\n",
       "        vertical-align: top;\n",
       "    }\n",
       "\n",
       "    .dataframe thead th {\n",
       "        text-align: right;\n",
       "    }\n",
       "</style>\n",
       "<table border=\"1\" class=\"dataframe\">\n",
       "  <thead>\n",
       "    <tr style=\"text-align: right;\">\n",
       "      <th></th>\n",
       "      <th>id</th>\n",
       "      <th>mz_low</th>\n",
       "      <th>mz_high</th>\n",
       "      <th>Name</th>\n",
       "      <th>root_region_intensity</th>\n",
       "      <th>m/z</th>\n",
       "      <th>spec_id</th>\n",
       "    </tr>\n",
       "  </thead>\n",
       "  <tbody>\n",
       "    <tr>\n",
       "      <th>0</th>\n",
       "      <td>0</td>\n",
       "      <td>87.0007</td>\n",
       "      <td>87.0157</td>\n",
       "      <td>Pyruvic acid</td>\n",
       "      <td>3749.830566</td>\n",
       "      <td>87.0082</td>\n",
       "      <td>aff596aa-8aff-479f-a8dc-9a3957e1b0f7</td>\n",
       "    </tr>\n",
       "    <tr>\n",
       "      <th>1</th>\n",
       "      <td>1</td>\n",
       "      <td>88.0328</td>\n",
       "      <td>88.0478</td>\n",
       "      <td>L-Alanine</td>\n",
       "      <td>3823.749268</td>\n",
       "      <td>88.0403</td>\n",
       "      <td>fb922874-2fe7-4abb-95ca-2d14b6079849</td>\n",
       "    </tr>\n",
       "    <tr>\n",
       "      <th>2</th>\n",
       "      <td>2</td>\n",
       "      <td>89.0164</td>\n",
       "      <td>89.0314</td>\n",
       "      <td>Lactic acid</td>\n",
       "      <td>899.031799</td>\n",
       "      <td>89.0239</td>\n",
       "      <td>64544264-90f6-4a16-8f85-2d80aa3e7393</td>\n",
       "    </tr>\n",
       "    <tr>\n",
       "      <th>3</th>\n",
       "      <td>4</td>\n",
       "      <td>104.0277</td>\n",
       "      <td>104.0427</td>\n",
       "      <td>Serine</td>\n",
       "      <td>542.101440</td>\n",
       "      <td>104.0352</td>\n",
       "      <td>447d1f1f-1771-485a-933f-ee807559dca5</td>\n",
       "    </tr>\n",
       "    <tr>\n",
       "      <th>4</th>\n",
       "      <td>5</td>\n",
       "      <td>108.0049</td>\n",
       "      <td>108.0199</td>\n",
       "      <td>Hypotaurine</td>\n",
       "      <td>191.645645</td>\n",
       "      <td>108.0124</td>\n",
       "      <td>5ebe984d-670f-4bab-8395-ea648f291266</td>\n",
       "    </tr>\n",
       "  </tbody>\n",
       "</table>\n",
       "</div>"
      ],
      "text/plain": [
       "   id    mz_low   mz_high          Name  root_region_intensity       m/z  \\\n",
       "0   0   87.0007   87.0157  Pyruvic acid            3749.830566   87.0082   \n",
       "1   1   88.0328   88.0478     L-Alanine            3823.749268   88.0403   \n",
       "2   2   89.0164   89.0314   Lactic acid             899.031799   89.0239   \n",
       "3   4  104.0277  104.0427        Serine             542.101440  104.0352   \n",
       "4   5  108.0049  108.0199   Hypotaurine             191.645645  108.0124   \n",
       "\n",
       "                                spec_id  \n",
       "0  aff596aa-8aff-479f-a8dc-9a3957e1b0f7  \n",
       "1  fb922874-2fe7-4abb-95ca-2d14b6079849  \n",
       "2  64544264-90f6-4a16-8f85-2d80aa3e7393  \n",
       "3  447d1f1f-1771-485a-933f-ee807559dca5  \n",
       "4  5ebe984d-670f-4bab-8395-ea648f291266  "
      ]
     },
     "execution_count": 3,
     "metadata": {},
     "output_type": "execute_result"
    }
   ],
   "source": [
    "df=pd.read_csv('data/training_data.csv')\n",
    "df.head()"
   ]
  },
  {
   "cell_type": "code",
   "execution_count": 4,
   "id": "d3a60a3b",
   "metadata": {},
   "outputs": [
    {
     "name": "stdout",
     "output_type": "stream",
     "text": [
      "<class 'pandas.core.frame.DataFrame'>\n",
      "RangeIndex: 213 entries, 0 to 212\n",
      "Data columns (total 7 columns):\n",
      " #   Column                 Non-Null Count  Dtype  \n",
      "---  ------                 --------------  -----  \n",
      " 0   id                     213 non-null    int64  \n",
      " 1   mz_low                 213 non-null    float64\n",
      " 2   mz_high                213 non-null    float64\n",
      " 3   Name                   213 non-null    object \n",
      " 4   root_region_intensity  213 non-null    float64\n",
      " 5   m/z                    213 non-null    float64\n",
      " 6   spec_id                213 non-null    object \n",
      "dtypes: float64(4), int64(1), object(2)\n",
      "memory usage: 11.8+ KB\n"
     ]
    }
   ],
   "source": [
    "df.info()"
   ]
  },
  {
   "cell_type": "code",
   "execution_count": 5,
   "id": "6b6103d3",
   "metadata": {},
   "outputs": [
    {
     "data": {
      "text/html": [
       "<div>\n",
       "<style scoped>\n",
       "    .dataframe tbody tr th:only-of-type {\n",
       "        vertical-align: middle;\n",
       "    }\n",
       "\n",
       "    .dataframe tbody tr th {\n",
       "        vertical-align: top;\n",
       "    }\n",
       "\n",
       "    .dataframe thead th {\n",
       "        text-align: right;\n",
       "    }\n",
       "</style>\n",
       "<table border=\"1\" class=\"dataframe\">\n",
       "  <thead>\n",
       "    <tr style=\"text-align: right;\">\n",
       "      <th></th>\n",
       "      <th>id</th>\n",
       "      <th>mz_low</th>\n",
       "      <th>mz_high</th>\n",
       "      <th>root_region_intensity</th>\n",
       "      <th>m/z</th>\n",
       "    </tr>\n",
       "  </thead>\n",
       "  <tbody>\n",
       "    <tr>\n",
       "      <th>count</th>\n",
       "      <td>213.000000</td>\n",
       "      <td>213.000000</td>\n",
       "      <td>213.000000</td>\n",
       "      <td>213.000000</td>\n",
       "      <td>213.000000</td>\n",
       "    </tr>\n",
       "    <tr>\n",
       "      <th>mean</th>\n",
       "      <td>208.863850</td>\n",
       "      <td>485.968550</td>\n",
       "      <td>485.990583</td>\n",
       "      <td>1768.535771</td>\n",
       "      <td>485.979568</td>\n",
       "    </tr>\n",
       "    <tr>\n",
       "      <th>std</th>\n",
       "      <td>140.679434</td>\n",
       "      <td>276.851001</td>\n",
       "      <td>276.858769</td>\n",
       "      <td>12291.946409</td>\n",
       "      <td>276.854883</td>\n",
       "    </tr>\n",
       "    <tr>\n",
       "      <th>min</th>\n",
       "      <td>0.000000</td>\n",
       "      <td>87.000700</td>\n",
       "      <td>87.015700</td>\n",
       "      <td>41.825127</td>\n",
       "      <td>87.008200</td>\n",
       "    </tr>\n",
       "    <tr>\n",
       "      <th>25%</th>\n",
       "      <td>83.000000</td>\n",
       "      <td>183.994200</td>\n",
       "      <td>184.009200</td>\n",
       "      <td>181.320602</td>\n",
       "      <td>184.001700</td>\n",
       "    </tr>\n",
       "    <tr>\n",
       "      <th>50%</th>\n",
       "      <td>169.000000</td>\n",
       "      <td>482.954000</td>\n",
       "      <td>482.969000</td>\n",
       "      <td>252.063065</td>\n",
       "      <td>482.961500</td>\n",
       "    </tr>\n",
       "    <tr>\n",
       "      <th>75%</th>\n",
       "      <td>352.000000</td>\n",
       "      <td>751.513588</td>\n",
       "      <td>751.558687</td>\n",
       "      <td>581.039551</td>\n",
       "      <td>751.536137</td>\n",
       "    </tr>\n",
       "    <tr>\n",
       "      <th>max</th>\n",
       "      <td>405.000000</td>\n",
       "      <td>1045.451962</td>\n",
       "      <td>1045.508549</td>\n",
       "      <td>176027.687500</td>\n",
       "      <td>1045.480256</td>\n",
       "    </tr>\n",
       "  </tbody>\n",
       "</table>\n",
       "</div>"
      ],
      "text/plain": [
       "               id       mz_low      mz_high  root_region_intensity  \\\n",
       "count  213.000000   213.000000   213.000000             213.000000   \n",
       "mean   208.863850   485.968550   485.990583            1768.535771   \n",
       "std    140.679434   276.851001   276.858769           12291.946409   \n",
       "min      0.000000    87.000700    87.015700              41.825127   \n",
       "25%     83.000000   183.994200   184.009200             181.320602   \n",
       "50%    169.000000   482.954000   482.969000             252.063065   \n",
       "75%    352.000000   751.513588   751.558687             581.039551   \n",
       "max    405.000000  1045.451962  1045.508549          176027.687500   \n",
       "\n",
       "               m/z  \n",
       "count   213.000000  \n",
       "mean    485.979568  \n",
       "std     276.854883  \n",
       "min      87.008200  \n",
       "25%     184.001700  \n",
       "50%     482.961500  \n",
       "75%     751.536137  \n",
       "max    1045.480256  "
      ]
     },
     "execution_count": 5,
     "metadata": {},
     "output_type": "execute_result"
    }
   ],
   "source": [
    "df.describe()"
   ]
  },
  {
   "cell_type": "code",
   "execution_count": 7,
   "id": "40f48310",
   "metadata": {},
   "outputs": [
    {
     "data": {
      "text/plain": [
       "id                       0\n",
       "mz_low                   0\n",
       "mz_high                  0\n",
       "Name                     0\n",
       "root_region_intensity    0\n",
       "m/z                      0\n",
       "spec_id                  0\n",
       "dtype: int64"
      ]
     },
     "execution_count": 7,
     "metadata": {},
     "output_type": "execute_result"
    }
   ],
   "source": [
    "df.isnull().sum()"
   ]
  },
  {
   "cell_type": "code",
   "execution_count": 8,
   "id": "7543ef67",
   "metadata": {},
   "outputs": [],
   "source": [
    "npz_dir = 'data/npz_data'"
   ]
  },
  {
   "cell_type": "code",
   "execution_count": 11,
   "id": "bd671fec",
   "metadata": {},
   "outputs": [
    {
     "name": "stdout",
     "output_type": "stream",
     "text": [
      "\n",
      "First Spec ID: aff596aa-8aff-479f-a8dc-9a3957e1b0f7\n",
      "m/z shape: (80,)\n",
      "Intensity shape: (80,)\n",
      "\n",
      "Sample m/z values: [86.99064875 86.9910837  86.99151866 86.99195361 86.99238857 86.99282354\n",
      " 86.9932585  86.99369347 86.99412844 86.99456341]\n",
      "Sample intensities: [4.8089743 8.8732    5.7162895 7.9441743 5.0840626 6.9757705 5.213771\n",
      " 9.002102  4.0344863 9.366201 ]\n"
     ]
    }
   ],
   "source": [
    "# loading npz \n",
    "import os\n",
    "spec_id=df.loc[0,'spec_id']\n",
    "npz_path=os.path.join(npz_dir,f\"{spec_id}.npz\")\n",
    "\n",
    "with np.load(npz_path) as npz:\n",
    "    mz = npz['mz']\n",
    "    intensities = npz['intensities']\n",
    "\n",
    "print(\"\\nFirst Spec ID:\", spec_id)\n",
    "print(\"m/z shape:\", mz.shape)\n",
    "print(\"Intensity shape:\", intensities.shape)\n",
    "print(\"\\nSample m/z values:\", mz[:10])\n",
    "print(\"Sample intensities:\", intensities[:10])"
   ]
  },
  {
   "cell_type": "markdown",
   "id": "c4662826",
   "metadata": {},
   "source": [
    "### Visualizations"
   ]
  },
  {
   "cell_type": "code",
   "execution_count": 12,
   "id": "dca5ce93",
   "metadata": {},
   "outputs": [
    {
     "data": {
      "image/png": "[encoded data removed]",
      "text/plain": [
       "<Figure size 1000x400 with 1 Axes>"
      ]
     },
     "metadata": {},
     "output_type": "display_data"
    }
   ],
   "source": [
    "import matplotlib.pyplot as plt\n",
    "\n",
    "compound = df.loc[0][\"Name\"]\n",
    "\n",
    "plt.figure(figsize=(10, 4))\n",
    "plt.plot(mz, intensities)\n",
    "plt.title(f\"Spectrum for {compound}\")\n",
    "plt.xlabel(\"m/z\")\n",
    "plt.ylabel(\"Intensity\")\n",
    "plt.show()"
   ]
  },
  {
   "cell_type": "code",
   "execution_count": 13,
   "id": "89949f4c",
   "metadata": {},
   "outputs": [
    {
     "data": {
      "image/png": "[encoded data removed]",
      "text/plain": [
       "<Figure size 800x300 with 1 Axes>"
      ]
     },
     "metadata": {},
     "output_type": "display_data"
    }
   ],
   "source": [
    "plt.figure(figsize=(8, 3))\n",
    "plt.hist(df[\"mz_low\"], bins=30, color=\"skyblue\", edgecolor=\"black\")\n",
    "plt.title(\"Histogram of mz_low\")\n",
    "plt.xlabel(\"mz_low\")\n",
    "plt.ylabel(\"Frequency\")\n",
    "plt.show()"
   ]
  },
  {
   "cell_type": "code",
   "execution_count": 14,
   "id": "8b8cf4a8",
   "metadata": {},
   "outputs": [
    {
     "data": {
      "image/png": "[encoded data removed]",
      "text/plain": [
       "<Figure size 800x300 with 1 Axes>"
      ]
     },
     "metadata": {},
     "output_type": "display_data"
    }
   ],
   "source": [
    "plt.figure(figsize=(8, 3))\n",
    "plt.hist(df[\"mz_high\"], bins=30, color=\"salmon\", edgecolor=\"black\")\n",
    "plt.title(\"Histogram of mz_high\")\n",
    "plt.xlabel(\"mz_high\")\n",
    "plt.ylabel(\"Frequency\")\n",
    "plt.show()"
   ]
  },
  {
   "cell_type": "code",
   "execution_count": 16,
   "id": "d728f361",
   "metadata": {},
   "outputs": [
    {
     "data": {
      "image/png": "[encoded data removed]",
      "text/plain": [
       "<Figure size 800x300 with 1 Axes>"
      ]
     },
     "metadata": {},
     "output_type": "display_data"
    }
   ],
   "source": [
    "plt.figure(figsize=(8, 3))\n",
    "plt.hist(df[\"m/z\"], bins=30, color=\"blue\", edgecolor=\"black\")\n",
    "plt.title(\"Histogram of m/z\")\n",
    "plt.xlabel(\"m/z\")\n",
    "plt.ylabel(\"Frequency\")\n",
    "plt.show()"
   ]
  },
  {
   "cell_type": "code",
   "execution_count": 18,
   "id": "4ac1e083",
   "metadata": {},
   "outputs": [
    {
     "data": {
      "image/png": "[encoded data removed]",
      "text/plain": [
       "<Figure size 1000x400 with 1 Axes>"
      ]
     },
     "metadata": {},
     "output_type": "display_data"
    }
   ],
   "source": [
    "with np.load(npz_path) as data:\n",
    "    mz=data['mz']\n",
    "    intensities = data['intensities']\n",
    "\n",
    "plt.figure(figsize=(10, 4))\n",
    "for _, row in df.head(3).iterrows():\n",
    "    spec_id = row[\"spec_id\"]\n",
    "    name = row[\"Name\"]\n",
    "    npz_path = os.path.join(npz_dir, f\"{spec_id}.npz\")\n",
    "    with np.load(npz_path) as data:\n",
    "        mz = data[\"mz\"]\n",
    "        intensities = data[\"intensities\"]\n",
    "    plt.plot(mz, intensities, label=name)\n",
    "\n",
    "\n",
    "plt.title(\"Comparison of 3 Sample Spectra\")\n",
    "plt.xlabel(\"m/z\")\n",
    "plt.ylabel(\"Intensity\")\n",
    "plt.legend()\n",
    "plt.tight_layout()\n",
    "plt.show()"
   ]
  },
  {
   "cell_type": "code",
   "execution_count": 19,
   "id": "4ba8742b",
   "metadata": {},
   "outputs": [
    {
     "data": {
      "text/plain": [
       "<Axes: >"
      ]
     },
     "execution_count": 19,
     "metadata": {},
     "output_type": "execute_result"
    },
    {
     "data": {
      "image/png": "[encoded data removed]",
      "text/plain": [
       "<Figure size 640x480 with 2 Axes>"
      ]
     },
     "metadata": {},
     "output_type": "display_data"
    }
   ],
   "source": [
    "import seaborn as sns\n",
    "sns.heatmap(df[['mz_low','mz_high','m/z','root_region_intensity']].corr(),annot=True, cmap='coolwarm')"
   ]
  },
  {
   "cell_type": "code",
   "execution_count": 21,
   "id": "a279e43b",
   "metadata": {},
   "outputs": [
    {
     "data": {
      "text/html": [
       "<div>\n",
       "<style scoped>\n",
       "    .dataframe tbody tr th:only-of-type {\n",
       "        vertical-align: middle;\n",
       "    }\n",
       "\n",
       "    .dataframe tbody tr th {\n",
       "        vertical-align: top;\n",
       "    }\n",
       "\n",
       "    .dataframe thead th {\n",
       "        text-align: right;\n",
       "    }\n",
       "</style>\n",
       "<table border=\"1\" class=\"dataframe\">\n",
       "  <thead>\n",
       "    <tr style=\"text-align: right;\">\n",
       "      <th></th>\n",
       "      <th>mz_low</th>\n",
       "      <th>mz_high</th>\n",
       "      <th>root_region_intensity</th>\n",
       "      <th>m/z</th>\n",
       "    </tr>\n",
       "  </thead>\n",
       "  <tbody>\n",
       "    <tr>\n",
       "      <th>mz_low</th>\n",
       "      <td>1.000000</td>\n",
       "      <td>1.000000</td>\n",
       "      <td>-0.127881</td>\n",
       "      <td>1.000000</td>\n",
       "    </tr>\n",
       "    <tr>\n",
       "      <th>mz_high</th>\n",
       "      <td>1.000000</td>\n",
       "      <td>1.000000</td>\n",
       "      <td>-0.127881</td>\n",
       "      <td>1.000000</td>\n",
       "    </tr>\n",
       "    <tr>\n",
       "      <th>root_region_intensity</th>\n",
       "      <td>-0.127881</td>\n",
       "      <td>-0.127881</td>\n",
       "      <td>1.000000</td>\n",
       "      <td>-0.127881</td>\n",
       "    </tr>\n",
       "    <tr>\n",
       "      <th>m/z</th>\n",
       "      <td>1.000000</td>\n",
       "      <td>1.000000</td>\n",
       "      <td>-0.127881</td>\n",
       "      <td>1.000000</td>\n",
       "    </tr>\n",
       "  </tbody>\n",
       "</table>\n",
       "</div>"
      ],
      "text/plain": [
       "                         mz_low   mz_high  root_region_intensity       m/z\n",
       "mz_low                 1.000000  1.000000              -0.127881  1.000000\n",
       "mz_high                1.000000  1.000000              -0.127881  1.000000\n",
       "root_region_intensity -0.127881 -0.127881               1.000000 -0.127881\n",
       "m/z                    1.000000  1.000000              -0.127881  1.000000"
      ]
     },
     "execution_count": 21,
     "metadata": {},
     "output_type": "execute_result"
    }
   ],
   "source": [
    "num_df=df.select_dtypes(include=[np.number])\n",
    "num_df.drop(['id'],axis=1,inplace=True)\n",
    "num_df.corr()"
   ]
  },
  {
   "cell_type": "code",
   "execution_count": 25,
   "id": "793f4aa1",
   "metadata": {},
   "outputs": [],
   "source": [
    "import json\n",
    "mz_min = df[['mz_low', 'mz_high','m/z']].min().min()\n",
    "mz_max = df[['mz_low', 'mz_high','m/z']].max().max()\n",
    "\n",
    "\n",
    "df['mz_low_norm'] = (df['mz_low'] - mz_min) / (mz_max - mz_min)\n",
    "df['mz_high_norm'] = (df['mz_high'] - mz_min) / (mz_max - mz_min)\n",
    "df['m/z_norm'] = (df['m/z'] - mz_min) / (mz_max - mz_min)\n",
    "\n",
    "# Save normalization range for later inverse transformation\n",
    "with open(\"norm_params.json\", \"w\") as f:\n",
    "    json.dump({'mz_min': float(mz_min), 'mz_max': float(mz_max)}, f)\n",
    "\n",
    "\n",
    "X = []  \n",
    "y = []  \n",
    "\n",
    "# Loop through each spectrum\n",
    "for _, row in df.iterrows():\n",
    "    spec_id = row['spec_id']\n",
    "    npz_path = os.path.join(npz_dir, f\"{spec_id}.npz\")\n",
    "    \n",
    "    if not os.path.exists(npz_path):\n",
    "        continue\n",
    "\n",
    "    with np.load(npz_path) as data:\n",
    "        mz = data['mz']\n",
    "        intensities = data['intensities']\n",
    "\n",
    "    # Normalize intensities to [0, 1]\n",
    "    norm_intensities = intensities / (np.max(intensities) + 1e-8)\n",
    "\n",
    "    # Stack mz and intensity to shape (80, 2)\n",
    "    spectrum = np.stack([mz, norm_intensities], axis=1)\n",
    "    X.append(spectrum.astype(np.float32))\n",
    "\n",
    "    # Normalized targets\n",
    "    y.append([\n",
    "        row['mz_low_norm'],\n",
    "        row['mz_high_norm'],\n",
    "        row['m/z_norm'],\n",
    "    ])\n",
    "\n",
    "# Convert to arrays\n",
    "X = np.array(X) \n",
    "y = np.array(y)  \n",
    "\n",
    "# Save for modeling\n",
    "np.save(\"X.npy\", X)\n",
    "np.save(\"y.npy\", y)"
   ]
  },
  {
   "cell_type": "markdown",
   "id": "2629d759",
   "metadata": {},
   "source": [
    "### Lasso and Ridge Regression"
   ]
  },
  {
   "cell_type": "code",
   "execution_count": 26,
   "id": "450029e3",
   "metadata": {},
   "outputs": [],
   "source": [
    "from sklearn.linear_model import Ridge, Lasso\n",
    "from sklearn.model_selection import train_test_split\n",
    "from sklearn.metrics import mean_squared_error, mean_absolute_error, r2_score\n",
    "\n",
    "# Load preprocessed data\n",
    "X = np.load(\"X.npy\")    \n",
    "y = np.load(\"y.npy\")    \n",
    "\n",
    "# Flatten X to (N, 160) for ML models\n",
    "X_flat = X.reshape(X.shape[0], -1)\n",
    "\n",
    "# Train/test split\n",
    "X_train, X_test, y_train, y_test = train_test_split(X_flat, y, test_size=0.2, random_state=42)\n",
    "\n"
   ]
  },
  {
   "cell_type": "code",
   "execution_count": 27,
   "id": "ff5adbce",
   "metadata": {},
   "outputs": [],
   "source": [
    "# Evaluate\n",
    "def print_scores(name, y_test, y_pred):\n",
    "    print(f\"--- {name} ---\")\n",
    "    print(\"MSE :\", mean_squared_error(y_test, y_pred))\n",
    "    print(\"MAE :\", mean_absolute_error(y_test, y_pred))\n",
    "    print(\"R² Score:\", r2_score(y_test, y_pred))  \n",
    "    print()"
   ]
  },
  {
   "cell_type": "code",
   "execution_count": 36,
   "id": "8f0463f1",
   "metadata": {},
   "outputs": [
    {
     "name": "stdout",
     "output_type": "stream",
     "text": [
      "--- Ridge ---\n",
      "MSE : 4.704119984702083e-12\n",
      "MAE : 1.5157146690991534e-06\n",
      "R² Score: 0.9999999999317555\n",
      "\n"
     ]
    }
   ],
   "source": [
    "# Initialize models\n",
    "ridge = Ridge(alpha=1.0)\n",
    "# Train\n",
    "ridge.fit(X_train, y_train)\n",
    "# Predict\n",
    "ridge_preds = ridge.predict(X_test)\n",
    "print_scores(\"Ridge\", y_test, ridge_preds)"
   ]
  },
  {
   "cell_type": "code",
   "execution_count": 32,
   "id": "c448dcbf",
   "metadata": {},
   "outputs": [
    {
     "name": "stdout",
     "output_type": "stream",
     "text": [
      "--- Lasso ---\n",
      "MSE : 1.0025066602782364e-09\n",
      "MAE : 2.79896172238998e-05\n",
      "R² Score: 0.9999999854562648\n",
      "\n"
     ]
    }
   ],
   "source": [
    "lasso = Lasso(alpha=0.01)\n",
    "lasso.fit(X_train, y_train)\n",
    "lasso_preds = lasso.predict(X_test)\n",
    "print_scores(\"Lasso\", y_test, lasso_preds)"
   ]
  },
  {
   "cell_type": "markdown",
   "id": "762a0af3",
   "metadata": {},
   "source": [
    "### Random Forest"
   ]
  },
  {
   "cell_type": "code",
   "execution_count": 37,
   "id": "1a512c90",
   "metadata": {},
   "outputs": [
    {
     "name": "stdout",
     "output_type": "stream",
     "text": [
      "--- Random Forest ---\n",
      "MSE : 1.6449878970074657e-05\n",
      "MAE : 0.0029973731658153474\n",
      "R² Score: 0.9997613553298351\n",
      "\n"
     ]
    }
   ],
   "source": [
    "from sklearn.ensemble import RandomForestRegressor\n",
    "rf = RandomForestRegressor(n_estimators=100, random_state=42)\n",
    "rf.fit(X_train, y_train)\n",
    "\n",
    "# Predict\n",
    "rf_preds = rf.predict(X_test)\n",
    "\n",
    "print_scores(\"Random Forest\", y_test, rf_preds)"
   ]
  }
 ],
 "metadata": {
  "kernelspec": {
   "display_name": "Python 3",
   "language": "python",
   "name": "python3"
  },
  "language_info": {
   "codemirror_mode": {
    "name": "ipython",
    "version": 3
   },
   "file_extension": ".py",
   "mimetype": "text/x-python",
   "name": "python",
   "nbconvert_exporter": "python",
   "pygments_lexer": "ipython3",
   "version": "3.12.10"
  }
 },
 "nbformat": 4,
 "nbformat_minor": 5
}
